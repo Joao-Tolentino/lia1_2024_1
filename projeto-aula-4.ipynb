{
 "cells": [
  {
   "cell_type": "markdown",
   "id": "57c640a5",
   "metadata": {
    "papermill": {
     "duration": 0.00924,
     "end_time": "2024-03-27T13:41:42.805345",
     "exception": false,
     "start_time": "2024-03-27T13:41:42.796105",
     "status": "completed"
    },
    "tags": []
   },
   "source": [
    "<hr style=\"height:10px\"> \n",
    " \n",
    "<div class='container2'>\n",
    "\t\t<div>\n",
    "\t\t\t<img src='https://s2-techtudo.glbimg.com/Bxr-QA4_gL25CarCCxr9JQFybt8=/0x0:1024x609/924x0/smart/filters:strip_icc()/i.s3.glbimg.com/v1/AUTH_08fbf48bc0524877943fe86e43087e7a/internal_photos/bs/2022/c/u/15eppqSmeTdHkoAKM0Uw/dall-e-2.jpg' ALIGN='left' style='width:10em'>\n",
    "\t\t</div>\t\n",
    "\t<div style='padding: 0 7em 2em 12em;'>\n",
    "\t<h1>Laboratório de Inovação e Automação 1 (LIA 1)</h1>\n",
    "\t<div style=\"font-size:12pt;float:left;\"> 2024/1 | 24M34 | Sala 200 CAE</div><br><br>\n",
    "    <div style=\"font-size:12pt;float:left;\"><b>Projetos de Inteligência Artificial</b></div>\n",
    "\t</div>\n",
    "</div>\n",
    "\n",
    "\n",
    " <hr style=\"height:5px\"> \n",
    "\n",
    "    \n",
    "<h2>Introdução ao Ambiente de Projetos - Python</h2>\n",
    "\n",
    "Notebook desenvolvido por: <a href=\"http://lattes.cnpq.br/1346824250595330\">Prof. Dr. Adriano C. Santana</a>\n",
    "\n",
    " <hr style=\"height:2px\"> \n"
   ]
  },
  {
   "cell_type": "markdown",
   "id": "0c334933",
   "metadata": {
    "papermill": {
     "duration": 0.008183,
     "end_time": "2024-03-27T13:41:42.822609",
     "exception": false,
     "start_time": "2024-03-27T13:41:42.814426",
     "status": "completed"
    },
    "tags": []
   },
   "source": [
    "[Tudo sobre o Python, clique aqui!](https://docs.python.org/pt-br/3/tutorial/)"
   ]
  },
  {
   "cell_type": "code",
   "execution_count": 1,
   "id": "c1d8fc3a",
   "metadata": {
    "execution": {
     "iopub.execute_input": "2024-03-27T13:41:42.842032Z",
     "iopub.status.busy": "2024-03-27T13:41:42.841390Z",
     "iopub.status.idle": "2024-03-27T13:41:42.859066Z",
     "shell.execute_reply": "2024-03-27T13:41:42.857240Z"
    },
    "papermill": {
     "duration": 0.030806,
     "end_time": "2024-03-27T13:41:42.862024",
     "exception": false,
     "start_time": "2024-03-27T13:41:42.831218",
     "status": "completed"
    },
    "tags": []
   },
   "outputs": [
    {
     "name": "stdout",
     "output_type": "stream",
     "text": [
      "A versão em uso é 3.10.13.\n"
     ]
    }
   ],
   "source": [
    "from platform import python_version\n",
    "print(f'A versão em uso é {python_version()}.')"
   ]
  },
  {
   "cell_type": "code",
   "execution_count": 2,
   "id": "a9c7f81a",
   "metadata": {
    "execution": {
     "iopub.execute_input": "2024-03-27T13:41:42.881209Z",
     "iopub.status.busy": "2024-03-27T13:41:42.880558Z",
     "iopub.status.idle": "2024-03-27T13:41:42.890289Z",
     "shell.execute_reply": "2024-03-27T13:41:42.888813Z"
    },
    "papermill": {
     "duration": 0.022011,
     "end_time": "2024-03-27T13:41:42.892610",
     "exception": false,
     "start_time": "2024-03-27T13:41:42.870599",
     "status": "completed"
    },
    "tags": []
   },
   "outputs": [
    {
     "data": {
      "text/plain": [
       "'3.10.13'"
      ]
     },
     "execution_count": 2,
     "metadata": {},
     "output_type": "execute_result"
    }
   ],
   "source": [
    "python_version()"
   ]
  },
  {
   "cell_type": "code",
   "execution_count": 3,
   "id": "32b0e2e6",
   "metadata": {
    "execution": {
     "iopub.execute_input": "2024-03-27T13:41:42.911897Z",
     "iopub.status.busy": "2024-03-27T13:41:42.911432Z",
     "iopub.status.idle": "2024-03-27T13:41:42.916695Z",
     "shell.execute_reply": "2024-03-27T13:41:42.915440Z"
    },
    "papermill": {
     "duration": 0.018314,
     "end_time": "2024-03-27T13:41:42.919258",
     "exception": false,
     "start_time": "2024-03-27T13:41:42.900944",
     "status": "completed"
    },
    "tags": []
   },
   "outputs": [
    {
     "name": "stdout",
     "output_type": "stream",
     "text": [
      "Bye bye, World!\n"
     ]
    }
   ],
   "source": [
    "# Verificar se o Python está funcionando\n",
    "print('Bye bye, World!')"
   ]
  },
  {
   "cell_type": "markdown",
   "id": "1f59d85c",
   "metadata": {
    "papermill": {
     "duration": 0.008399,
     "end_time": "2024-03-27T13:41:42.936583",
     "exception": false,
     "start_time": "2024-03-27T13:41:42.928184",
     "status": "completed"
    },
    "tags": []
   },
   "source": [
    "#### Operadores Aritméticos"
   ]
  },
  {
   "cell_type": "code",
   "execution_count": 4,
   "id": "a27c07cb",
   "metadata": {
    "execution": {
     "iopub.execute_input": "2024-03-27T13:41:42.956633Z",
     "iopub.status.busy": "2024-03-27T13:41:42.956096Z",
     "iopub.status.idle": "2024-03-27T13:41:42.963293Z",
     "shell.execute_reply": "2024-03-27T13:41:42.962160Z"
    },
    "papermill": {
     "duration": 0.020301,
     "end_time": "2024-03-27T13:41:42.965788",
     "exception": false,
     "start_time": "2024-03-27T13:41:42.945487",
     "status": "completed"
    },
    "tags": []
   },
   "outputs": [
    {
     "data": {
      "text/plain": [
       "2"
      ]
     },
     "execution_count": 4,
     "metadata": {},
     "output_type": "execute_result"
    }
   ],
   "source": [
    "# Adição\n",
    "1 + 1"
   ]
  },
  {
   "cell_type": "code",
   "execution_count": 5,
   "id": "799b4be2",
   "metadata": {
    "execution": {
     "iopub.execute_input": "2024-03-27T13:41:42.986126Z",
     "iopub.status.busy": "2024-03-27T13:41:42.985648Z",
     "iopub.status.idle": "2024-03-27T13:41:42.993856Z",
     "shell.execute_reply": "2024-03-27T13:41:42.992786Z"
    },
    "papermill": {
     "duration": 0.021814,
     "end_time": "2024-03-27T13:41:42.996695",
     "exception": false,
     "start_time": "2024-03-27T13:41:42.974881",
     "status": "completed"
    },
    "tags": []
   },
   "outputs": [
    {
     "data": {
      "text/plain": [
       "1"
      ]
     },
     "execution_count": 5,
     "metadata": {},
     "output_type": "execute_result"
    }
   ],
   "source": [
    "# Subtração\n",
    "2 - 1"
   ]
  },
  {
   "cell_type": "code",
   "execution_count": 6,
   "id": "867abc74",
   "metadata": {
    "execution": {
     "iopub.execute_input": "2024-03-27T13:41:43.018861Z",
     "iopub.status.busy": "2024-03-27T13:41:43.018347Z",
     "iopub.status.idle": "2024-03-27T13:41:43.026237Z",
     "shell.execute_reply": "2024-03-27T13:41:43.024963Z"
    },
    "papermill": {
     "duration": 0.022568,
     "end_time": "2024-03-27T13:41:43.029322",
     "exception": false,
     "start_time": "2024-03-27T13:41:43.006754",
     "status": "completed"
    },
    "tags": []
   },
   "outputs": [
    {
     "data": {
      "text/plain": [
       "4"
      ]
     },
     "execution_count": 6,
     "metadata": {},
     "output_type": "execute_result"
    }
   ],
   "source": [
    "# Multiplicação\n",
    "2 * 2"
   ]
  },
  {
   "cell_type": "code",
   "execution_count": 7,
   "id": "5e2e0612",
   "metadata": {
    "execution": {
     "iopub.execute_input": "2024-03-27T13:41:43.051864Z",
     "iopub.status.busy": "2024-03-27T13:41:43.051117Z",
     "iopub.status.idle": "2024-03-27T13:41:43.059465Z",
     "shell.execute_reply": "2024-03-27T13:41:43.057639Z"
    },
    "papermill": {
     "duration": 0.023787,
     "end_time": "2024-03-27T13:41:43.062789",
     "exception": false,
     "start_time": "2024-03-27T13:41:43.039002",
     "status": "completed"
    },
    "tags": []
   },
   "outputs": [
    {
     "data": {
      "text/plain": [
       "1.5"
      ]
     },
     "execution_count": 7,
     "metadata": {},
     "output_type": "execute_result"
    }
   ],
   "source": [
    "# Divisão\n",
    "3 / 2"
   ]
  },
  {
   "cell_type": "code",
   "execution_count": 8,
   "id": "04c2d5c9",
   "metadata": {
    "execution": {
     "iopub.execute_input": "2024-03-27T13:41:43.086242Z",
     "iopub.status.busy": "2024-03-27T13:41:43.085782Z",
     "iopub.status.idle": "2024-03-27T13:41:43.093009Z",
     "shell.execute_reply": "2024-03-27T13:41:43.091972Z"
    },
    "papermill": {
     "duration": 0.021161,
     "end_time": "2024-03-27T13:41:43.095329",
     "exception": false,
     "start_time": "2024-03-27T13:41:43.074168",
     "status": "completed"
    },
    "tags": []
   },
   "outputs": [
    {
     "data": {
      "text/plain": [
       "16"
      ]
     },
     "execution_count": 8,
     "metadata": {},
     "output_type": "execute_result"
    }
   ],
   "source": [
    "# Potência\n",
    "4 ** 2"
   ]
  },
  {
   "cell_type": "code",
   "execution_count": 9,
   "id": "6bdd26f0",
   "metadata": {
    "execution": {
     "iopub.execute_input": "2024-03-27T13:41:43.119933Z",
     "iopub.status.busy": "2024-03-27T13:41:43.118410Z",
     "iopub.status.idle": "2024-03-27T13:41:43.126722Z",
     "shell.execute_reply": "2024-03-27T13:41:43.125707Z"
    },
    "papermill": {
     "duration": 0.024502,
     "end_time": "2024-03-27T13:41:43.129945",
     "exception": false,
     "start_time": "2024-03-27T13:41:43.105443",
     "status": "completed"
    },
    "tags": []
   },
   "outputs": [
    {
     "data": {
      "text/plain": [
       "1"
      ]
     },
     "execution_count": 9,
     "metadata": {},
     "output_type": "execute_result"
    }
   ],
   "source": [
    "# Módulo (resto da divisão)\n",
    "10 % 3"
   ]
  },
  {
   "cell_type": "markdown",
   "id": "dc7fd0ce",
   "metadata": {
    "papermill": {
     "duration": 0.010361,
     "end_time": "2024-03-27T13:41:43.151079",
     "exception": false,
     "start_time": "2024-03-27T13:41:43.140718",
     "status": "completed"
    },
    "tags": []
   },
   "source": [
    "#### Tipo de Dados (Type)"
   ]
  },
  {
   "cell_type": "code",
   "execution_count": 10,
   "id": "da2658f1",
   "metadata": {
    "execution": {
     "iopub.execute_input": "2024-03-27T13:41:43.174880Z",
     "iopub.status.busy": "2024-03-27T13:41:43.174457Z",
     "iopub.status.idle": "2024-03-27T13:41:43.183120Z",
     "shell.execute_reply": "2024-03-27T13:41:43.181537Z"
    },
    "papermill": {
     "duration": 0.023716,
     "end_time": "2024-03-27T13:41:43.186156",
     "exception": false,
     "start_time": "2024-03-27T13:41:43.162440",
     "status": "completed"
    },
    "tags": []
   },
   "outputs": [
    {
     "data": {
      "text/plain": [
       "int"
      ]
     },
     "execution_count": 10,
     "metadata": {},
     "output_type": "execute_result"
    }
   ],
   "source": [
    "# Qual o tipo do (?) -> Inteiro\n",
    "type(5)"
   ]
  },
  {
   "cell_type": "code",
   "execution_count": 11,
   "id": "80a7afe4",
   "metadata": {
    "execution": {
     "iopub.execute_input": "2024-03-27T13:41:43.209651Z",
     "iopub.status.busy": "2024-03-27T13:41:43.208942Z",
     "iopub.status.idle": "2024-03-27T13:41:43.217978Z",
     "shell.execute_reply": "2024-03-27T13:41:43.216488Z"
    },
    "papermill": {
     "duration": 0.023809,
     "end_time": "2024-03-27T13:41:43.220699",
     "exception": false,
     "start_time": "2024-03-27T13:41:43.196890",
     "status": "completed"
    },
    "tags": []
   },
   "outputs": [
    {
     "data": {
      "text/plain": [
       "float"
      ]
     },
     "execution_count": 11,
     "metadata": {},
     "output_type": "execute_result"
    }
   ],
   "source": [
    "# Qual o tipo do (?) -> Float - Decimal\n",
    "type(5.0)"
   ]
  },
  {
   "cell_type": "code",
   "execution_count": 12,
   "id": "dde48434",
   "metadata": {
    "execution": {
     "iopub.execute_input": "2024-03-27T13:41:43.244652Z",
     "iopub.status.busy": "2024-03-27T13:41:43.243906Z",
     "iopub.status.idle": "2024-03-27T13:41:43.251491Z",
     "shell.execute_reply": "2024-03-27T13:41:43.250241Z"
    },
    "papermill": {
     "duration": 0.023,
     "end_time": "2024-03-27T13:41:43.254571",
     "exception": false,
     "start_time": "2024-03-27T13:41:43.231571",
     "status": "completed"
    },
    "tags": []
   },
   "outputs": [
    {
     "data": {
      "text/plain": [
       "str"
      ]
     },
     "execution_count": 12,
     "metadata": {},
     "output_type": "execute_result"
    }
   ],
   "source": [
    "# Qual o tipo do (?) -> String\n",
    "a = 'Estudando Python!'\n",
    "type(a)"
   ]
  },
  {
   "cell_type": "markdown",
   "id": "8750e86f",
   "metadata": {
    "papermill": {
     "duration": 0.010696,
     "end_time": "2024-03-27T13:41:43.276324",
     "exception": false,
     "start_time": "2024-03-27T13:41:43.265628",
     "status": "completed"
    },
    "tags": []
   },
   "source": [
    "#### Condicional if"
   ]
  },
  {
   "cell_type": "code",
   "execution_count": 13,
   "id": "cc69c6c8",
   "metadata": {
    "execution": {
     "iopub.execute_input": "2024-03-27T13:41:43.300584Z",
     "iopub.status.busy": "2024-03-27T13:41:43.300096Z",
     "iopub.status.idle": "2024-03-27T13:41:43.306964Z",
     "shell.execute_reply": "2024-03-27T13:41:43.305523Z"
    },
    "papermill": {
     "duration": 0.024775,
     "end_time": "2024-03-27T13:41:43.312231",
     "exception": false,
     "start_time": "2024-03-27T13:41:43.287456",
     "status": "completed"
    },
    "tags": []
   },
   "outputs": [
    {
     "name": "stdout",
     "output_type": "stream",
     "text": [
      "A sentença é verdadeira!\n"
     ]
    }
   ],
   "source": [
    "# Condicional if (Se)\n",
    "if 5 > 2:\n",
    "    print(\"A sentença é verdadeira!\")"
   ]
  },
  {
   "cell_type": "code",
   "execution_count": 14,
   "id": "74bb44de",
   "metadata": {
    "execution": {
     "iopub.execute_input": "2024-03-27T13:41:43.338313Z",
     "iopub.status.busy": "2024-03-27T13:41:43.337427Z",
     "iopub.status.idle": "2024-03-27T13:41:43.343831Z",
     "shell.execute_reply": "2024-03-27T13:41:43.342784Z"
    },
    "papermill": {
     "duration": 0.022694,
     "end_time": "2024-03-27T13:41:43.346578",
     "exception": false,
     "start_time": "2024-03-27T13:41:43.323884",
     "status": "completed"
    },
    "tags": []
   },
   "outputs": [
    {
     "name": "stdout",
     "output_type": "stream",
     "text": [
      "A sentença é falsa!\n"
     ]
    }
   ],
   "source": [
    "# Condicional if...else\n",
    "if 5 < 2:\n",
    "    print(\"A sentença é verdadeira!\")\n",
    "else:\n",
    "    print(\"A sentença é falsa!\")"
   ]
  },
  {
   "cell_type": "code",
   "execution_count": 15,
   "id": "bdc4b139",
   "metadata": {
    "execution": {
     "iopub.execute_input": "2024-03-27T13:41:43.371594Z",
     "iopub.status.busy": "2024-03-27T13:41:43.371112Z",
     "iopub.status.idle": "2024-03-27T13:41:43.378173Z",
     "shell.execute_reply": "2024-03-27T13:41:43.376495Z"
    },
    "papermill": {
     "duration": 0.023503,
     "end_time": "2024-03-27T13:41:43.381378",
     "exception": false,
     "start_time": "2024-03-27T13:41:43.357875",
     "status": "completed"
    },
    "tags": []
   },
   "outputs": [
    {
     "name": "stdout",
     "output_type": "stream",
     "text": [
      "Hoje vai chover!\n"
     ]
    }
   ],
   "source": [
    "# Condicional if...else com variável\n",
    "dia = \"Quarta-feira\"\n",
    "if dia == \"Sexta-feira\":\n",
    "    print(\"Hoje fará sol!\")\n",
    "else:\n",
    "    print(\"Hoje vai chover!\")"
   ]
  },
  {
   "cell_type": "markdown",
   "id": "201f31d5",
   "metadata": {
    "papermill": {
     "duration": 0.01104,
     "end_time": "2024-03-27T13:41:43.403848",
     "exception": false,
     "start_time": "2024-03-27T13:41:43.392808",
     "status": "completed"
    },
    "tags": []
   },
   "source": [
    "#### Manipulando arquivos"
   ]
  },
  {
   "cell_type": "markdown",
   "id": "ca9a4fbd",
   "metadata": {
    "papermill": {
     "duration": 0.011015,
     "end_time": "2024-03-27T13:41:43.426240",
     "exception": false,
     "start_time": "2024-03-27T13:41:43.415225",
     "status": "completed"
    },
    "tags": []
   },
   "source": [
    "#### Lendo arquivos (.txt)"
   ]
  },
  {
   "cell_type": "code",
   "execution_count": 16,
   "id": "a019a776",
   "metadata": {
    "execution": {
     "iopub.execute_input": "2024-03-27T13:41:43.451361Z",
     "iopub.status.busy": "2024-03-27T13:41:43.450876Z",
     "iopub.status.idle": "2024-03-27T13:41:43.462077Z",
     "shell.execute_reply": "2024-03-27T13:41:43.460632Z"
    },
    "papermill": {
     "duration": 0.027697,
     "end_time": "2024-03-27T13:41:43.465337",
     "exception": false,
     "start_time": "2024-03-27T13:41:43.437640",
     "status": "completed"
    },
    "tags": []
   },
   "outputs": [],
   "source": [
    "# Abrindo o arquivo para leitura\n",
    "a1 = open(\"/kaggle/input/testes1/Testes.txt\", \"r\")"
   ]
  },
  {
   "cell_type": "code",
   "execution_count": 17,
   "id": "14e29d03",
   "metadata": {
    "execution": {
     "iopub.execute_input": "2024-03-27T13:41:43.491399Z",
     "iopub.status.busy": "2024-03-27T13:41:43.490031Z",
     "iopub.status.idle": "2024-03-27T13:41:43.498255Z",
     "shell.execute_reply": "2024-03-27T13:41:43.497275Z"
    },
    "papermill": {
     "duration": 0.023973,
     "end_time": "2024-03-27T13:41:43.500870",
     "exception": false,
     "start_time": "2024-03-27T13:41:43.476897",
     "status": "completed"
    },
    "tags": []
   },
   "outputs": [
    {
     "name": "stdout",
     "output_type": "stream",
     "text": [
      "So para testar dataset do kaggle.\n"
     ]
    }
   ],
   "source": [
    "# Lendo o arquivo\n",
    "print(a1.read())"
   ]
  },
  {
   "cell_type": "markdown",
   "id": "21278e47",
   "metadata": {
    "papermill": {
     "duration": 0.011873,
     "end_time": "2024-03-27T13:41:43.524300",
     "exception": false,
     "start_time": "2024-03-27T13:41:43.512427",
     "status": "completed"
    },
    "tags": []
   },
   "source": [
    "#### Gravando arquivos (.txt)"
   ]
  },
  {
   "cell_type": "code",
   "execution_count": 18,
   "id": "5a3d45d6",
   "metadata": {
    "execution": {
     "iopub.execute_input": "2024-03-27T13:41:43.549638Z",
     "iopub.status.busy": "2024-03-27T13:41:43.549218Z",
     "iopub.status.idle": "2024-03-27T13:41:43.554992Z",
     "shell.execute_reply": "2024-03-27T13:41:43.553569Z"
    },
    "papermill": {
     "duration": 0.021813,
     "end_time": "2024-03-27T13:41:43.557810",
     "exception": false,
     "start_time": "2024-03-27T13:41:43.535997",
     "status": "completed"
    },
    "tags": []
   },
   "outputs": [],
   "source": [
    "# Abrindo o arquivo para gravação\n",
    "a2 = open(\"/kaggle/working/arquivo2.txt\", \"w\")"
   ]
  },
  {
   "cell_type": "code",
   "execution_count": 19,
   "id": "6ca1fc90",
   "metadata": {
    "execution": {
     "iopub.execute_input": "2024-03-27T13:41:43.582938Z",
     "iopub.status.busy": "2024-03-27T13:41:43.582477Z",
     "iopub.status.idle": "2024-03-27T13:41:43.590624Z",
     "shell.execute_reply": "2024-03-27T13:41:43.589473Z"
    },
    "papermill": {
     "duration": 0.02339,
     "end_time": "2024-03-27T13:41:43.592877",
     "exception": false,
     "start_time": "2024-03-27T13:41:43.569487",
     "status": "completed"
    },
    "tags": []
   },
   "outputs": [
    {
     "data": {
      "text/plain": [
       "59"
      ]
     },
     "execution_count": 19,
     "metadata": {},
     "output_type": "execute_result"
    }
   ],
   "source": [
    "# Gravando no arquivo\n",
    "a2.write(\"Aprendendo Python em 2024/1 ao som de um cortador de grama!\")"
   ]
  },
  {
   "cell_type": "code",
   "execution_count": 20,
   "id": "b22f0f29",
   "metadata": {
    "execution": {
     "iopub.execute_input": "2024-03-27T13:41:43.619762Z",
     "iopub.status.busy": "2024-03-27T13:41:43.618649Z",
     "iopub.status.idle": "2024-03-27T13:41:43.625548Z",
     "shell.execute_reply": "2024-03-27T13:41:43.624242Z"
    },
    "papermill": {
     "duration": 0.023596,
     "end_time": "2024-03-27T13:41:43.628296",
     "exception": false,
     "start_time": "2024-03-27T13:41:43.604700",
     "status": "completed"
    },
    "tags": []
   },
   "outputs": [],
   "source": [
    "# Abrindo o arquivo para leitura\n",
    "a2 = open(\"/kaggle/working/arquivo2.txt\", \"r\")"
   ]
  },
  {
   "cell_type": "code",
   "execution_count": 21,
   "id": "4fa04eff",
   "metadata": {
    "execution": {
     "iopub.execute_input": "2024-03-27T13:41:43.653694Z",
     "iopub.status.busy": "2024-03-27T13:41:43.653242Z",
     "iopub.status.idle": "2024-03-27T13:41:43.659440Z",
     "shell.execute_reply": "2024-03-27T13:41:43.658059Z"
    },
    "papermill": {
     "duration": 0.022634,
     "end_time": "2024-03-27T13:41:43.662326",
     "exception": false,
     "start_time": "2024-03-27T13:41:43.639692",
     "status": "completed"
    },
    "tags": []
   },
   "outputs": [
    {
     "name": "stdout",
     "output_type": "stream",
     "text": [
      "Aprendendo Python em 2024/1 ao som de um cortador de grama!\n"
     ]
    }
   ],
   "source": [
    "# Imprimindo arquivo\n",
    "print(a2.read())"
   ]
  }
 ],
 "metadata": {
  "kaggle": {
   "accelerator": "none",
   "dataSources": [
    {
     "datasetId": 4680199,
     "sourceId": 7956875,
     "sourceType": "datasetVersion"
    }
   ],
   "dockerImageVersionId": 30673,
   "isGpuEnabled": false,
   "isInternetEnabled": false,
   "language": "python",
   "sourceType": "notebook"
  },
  "kernelspec": {
   "display_name": "Python 3 (ipykernel)",
   "language": "python",
   "name": "python3"
  },
  "language_info": {
   "codemirror_mode": {
    "name": "ipython",
    "version": 3
   },
   "file_extension": ".py",
   "mimetype": "text/x-python",
   "name": "python",
   "nbconvert_exporter": "python",
   "pygments_lexer": "ipython3",
   "version": "3.10.13"
  },
  "papermill": {
   "default_parameters": {},
   "duration": 4.912457,
   "end_time": "2024-03-27T13:41:44.098458",
   "environment_variables": {},
   "exception": null,
   "input_path": "__notebook__.ipynb",
   "output_path": "__notebook__.ipynb",
   "parameters": {},
   "start_time": "2024-03-27T13:41:39.186001",
   "version": "2.5.0"
  }
 },
 "nbformat": 4,
 "nbformat_minor": 5
}
